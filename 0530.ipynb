{
  "nbformat": 4,
  "nbformat_minor": 0,
  "metadata": {
    "colab": {
      "name": "0530.ipynb",
      "provenance": [],
      "authorship_tag": "ABX9TyNdW0gW31m/IYEwVp2VXZGj",
      "include_colab_link": true
    },
    "kernelspec": {
      "name": "python3",
      "display_name": "Python 3"
    },
    "language_info": {
      "name": "python"
    }
  },
  "cells": [
    {
      "cell_type": "markdown",
      "metadata": {
        "id": "view-in-github",
        "colab_type": "text"
      },
      "source": [
        "<a href=\"https://colab.research.google.com/github/yhh0910/Intorduction-to-Computers/blob/main/0530.ipynb\" target=\"_parent\"><img src=\"https://colab.research.google.com/assets/colab-badge.svg\" alt=\"Open In Colab\"/></a>"
      ]
    },
    {
      "cell_type": "markdown",
      "source": [
        "九九乘法表"
      ],
      "metadata": {
        "id": "DD4h0B-uCPPs"
      }
    },
    {
      "cell_type": "code",
      "source": [
        "for i in range(2,10):\n",
        "  for j in range(1,10):\n",
        "    product = i*j\n",
        "    print('%d*%d=%2d '% (i,j,product),end=\"\")\n",
        "  print()"
      ],
      "metadata": {
        "colab": {
          "base_uri": "https://localhost:8080/"
        },
        "id": "WvFu2sg4CXjD",
        "outputId": "e1ee23d2-55b1-4ee6-c6b6-cb007d435ce0"
      },
      "execution_count": 2,
      "outputs": [
        {
          "output_type": "stream",
          "name": "stdout",
          "text": [
            "2*1= 2 2*2= 4 2*3= 6 2*4= 8 2*5=10 2*6=12 2*7=14 2*8=16 2*9=18 \n",
            "3*1= 3 3*2= 6 3*3= 9 3*4=12 3*5=15 3*6=18 3*7=21 3*8=24 3*9=27 \n",
            "4*1= 4 4*2= 8 4*3=12 4*4=16 4*5=20 4*6=24 4*7=28 4*8=32 4*9=36 \n",
            "5*1= 5 5*2=10 5*3=15 5*4=20 5*5=25 5*6=30 5*7=35 5*8=40 5*9=45 \n",
            "6*1= 6 6*2=12 6*3=18 6*4=24 6*5=30 6*6=36 6*7=42 6*8=48 6*9=54 \n",
            "7*1= 7 7*2=14 7*3=21 7*4=28 7*5=35 7*6=42 7*7=49 7*8=56 7*9=63 \n",
            "8*1= 8 8*2=16 8*3=24 8*4=32 8*5=40 8*6=48 8*7=56 8*8=64 8*9=72 \n",
            "9*1= 9 9*2=18 9*3=27 9*4=36 9*5=45 9*6=54 9*7=63 9*8=72 9*9=81 \n"
          ]
        }
      ]
    },
    {
      "cell_type": "markdown",
      "source": [
        "最小公倍數"
      ],
      "metadata": {
        "id": "FMlzH-OcDDz6"
      }
    },
    {
      "cell_type": "code",
      "source": [
        "a = int(input('請輸入a的值'))\n",
        "b = int(input('請輸入b的值'))\n",
        "\n",
        "maxno = a*b\n",
        "for i in range(1,maxno+1):\n",
        "  if(i%a==0 and i%b ==0):\n",
        "    break\n",
        "print('%d和%d的最小公倍數 = %d' %(a,b,i))"
      ],
      "metadata": {
        "colab": {
          "base_uri": "https://localhost:8080/"
        },
        "id": "ZcoJflZhDHrz",
        "outputId": "da5c124d-6189-46c8-a206-ddf7837f5b67"
      },
      "execution_count": 4,
      "outputs": [
        {
          "output_type": "stream",
          "name": "stdout",
          "text": [
            "請輸入a的值5\n",
            "請輸入b的值6\n",
            "5和6的最小公倍數 = 30\n"
          ]
        }
      ]
    },
    {
      "cell_type": "markdown",
      "source": [
        "排除數列數列中5的倍數"
      ],
      "metadata": {
        "id": "8lErDXqZE43p"
      }
    },
    {
      "cell_type": "code",
      "source": [
        "n = int(input('請輸入正整數:'))\n",
        "for i in range(1,n+1):\n",
        "  if i % 5 ==0:\n",
        "    continue\n",
        "  print(i,end='  ')"
      ],
      "metadata": {
        "colab": {
          "base_uri": "https://localhost:8080/"
        },
        "id": "pOH6JhwvHAWg",
        "outputId": "d0cade60-7706-4731-a1f3-cbf487ae6cd4"
      },
      "execution_count": 8,
      "outputs": [
        {
          "output_type": "stream",
          "name": "stdout",
          "text": [
            "請輸入正整數:21\n",
            "1  2  3  4  6  7  8  9  11  12  13  14  16  17  18  19  21  "
          ]
        }
      ]
    },
    {
      "cell_type": "code",
      "execution_count": 9,
      "metadata": {
        "colab": {
          "base_uri": "https://localhost:8080/"
        },
        "id": "XTNE5Y8IByZF",
        "outputId": "74f7f0bd-70d0-47ea-bd49-39b60ac267be"
      },
      "outputs": [
        {
          "output_type": "stream",
          "name": "stdout",
          "text": [
            "55\n"
          ]
        }
      ],
      "source": [
        "total = n = 0\n",
        "while n <= 10:\n",
        "  total += n\n",
        "  n += 1\n",
        "print(total)"
      ]
    },
    {
      "cell_type": "code",
      "source": [
        "total = i =1\n",
        "n = int(input('請輸入正整數n的值:'))\n",
        "while i<=n:\n",
        "  total *= i\n",
        "  i+=1\n",
        "print(\"%d!=%d\" % (n,total))"
      ],
      "metadata": {
        "colab": {
          "base_uri": "https://localhost:8080/"
        },
        "id": "A_ISJk8hKrar",
        "outputId": "aa049bbb-31da-4a46-e7ac-a677eebdbf64"
      },
      "execution_count": 10,
      "outputs": [
        {
          "output_type": "stream",
          "name": "stdout",
          "text": [
            "請輸入正整數n的值:3\n",
            "3!=6\n"
          ]
        }
      ]
    },
    {
      "cell_type": "markdown",
      "source": [
        "請計算 0~50的奇數和與偶數和"
      ],
      "metadata": {
        "id": "FPNtyepWNHP8"
      }
    },
    {
      "cell_type": "code",
      "source": [
        "n = 1\n",
        "total = 0\n",
        "while n <= 50:  \n",
        "  total += n\n",
        "  n +=2\n",
        "print('0~50的奇數和結果是%d' %(total))\n",
        "\n",
        "b = 0\n",
        "totalb = 0\n",
        "while b <= 50:  \n",
        "  totalb += b\n",
        "  b +=2\n",
        "  \n",
        "print('0~50的偶數和結果是%d' %(totalb))\n",
        "\n"
      ],
      "metadata": {
        "colab": {
          "base_uri": "https://localhost:8080/"
        },
        "id": "l_-H3F-SNIAF",
        "outputId": "7ff4bf36-4a0e-4b0a-dc13-73ce3021b143"
      },
      "execution_count": 17,
      "outputs": [
        {
          "output_type": "stream",
          "name": "stdout",
          "text": [
            "0~50的奇數和結果是625\n",
            "0~50的偶數和結果是650\n"
          ]
        }
      ]
    },
    {
      "cell_type": "markdown",
      "source": [
        "請用 for 迴圈，求出數值1~100中，所有是3或是7倍數的數之總和"
      ],
      "metadata": {
        "id": "F_3erBCLSPPi"
      }
    },
    {
      "cell_type": "code",
      "source": [
        "a = 0\n",
        "for i in range(1,101):\n",
        "  if(i%3==0 or i%7==0):\n",
        "    a +=i\n",
        "print('1到100中 所有是3或7倍數的總和=',a)"
      ],
      "metadata": {
        "colab": {
          "base_uri": "https://localhost:8080/"
        },
        "id": "s7zsBXEGSSmL",
        "outputId": "cd481696-6e8b-43b7-bbb2-67a8e371f06c"
      },
      "execution_count": 29,
      "outputs": [
        {
          "output_type": "stream",
          "name": "stdout",
          "text": [
            "1到100中 所有是3或7倍數的總和= 2208\n"
          ]
        }
      ]
    },
    {
      "cell_type": "markdown",
      "source": [
        "讓使用者輸入一個正整數後，程式會顯示由1到該整數的倒三角形"
      ],
      "metadata": {
        "id": "h89ZASNVPGl-"
      }
    },
    {
      "cell_type": "code",
      "source": [
        "max = int(input('請輸入正整數:'))\n",
        "for i in range(max,0,-1):\n",
        "  for j in range(i,0,-1):\n",
        "    print('*',end=\"\")\n",
        "  print()"
      ],
      "metadata": {
        "colab": {
          "base_uri": "https://localhost:8080/"
        },
        "id": "43U3GcNpPO0r",
        "outputId": "2fb9da50-21a9-426c-af5e-9e96b9fe7276"
      },
      "execution_count": 36,
      "outputs": [
        {
          "output_type": "stream",
          "name": "stdout",
          "text": [
            "請輸入正整數:6\n",
            "******\n",
            "*****\n",
            "****\n",
            "***\n",
            "**\n",
            "*\n"
          ]
        }
      ]
    },
    {
      "cell_type": "markdown",
      "source": [
        "讓使用者輸入一個正整數後，列出該數的所有因數，並判斷該數是否爲質數"
      ],
      "metadata": {
        "id": "wHq_-JjwXGMF"
      }
    },
    {
      "cell_type": "code",
      "source": [
        "num = []\n",
        "n = int(input('請輸入正整數:'))\n",
        "for i in range(1,n+1):\n",
        "  if n % i ==0:\n",
        "    num.append(i)\n",
        "print(n,'的因數有',num)\n",
        "if n > 1:\n",
        "    for j in range(2, int(n/2)+1):\n",
        "         if (n % j) == 0:\n",
        "            print(n,\"不是質數\")\n",
        "            break\n",
        "    else:\n",
        "        print(n,\"是質數\")\n",
        "\n",
        "else:\n",
        "    print(n,\"不是質數\")"
      ],
      "metadata": {
        "colab": {
          "base_uri": "https://localhost:8080/"
        },
        "id": "g0wFbJblXFkA",
        "outputId": "ed8be34a-3173-446b-8367-21239328d151"
      },
      "execution_count": 47,
      "outputs": [
        {
          "output_type": "stream",
          "name": "stdout",
          "text": [
            "請輸入正整數:12\n",
            "12 的因數有 [1, 2, 3, 4, 6, 12]\n",
            "12 不是質數\n"
          ]
        }
      ]
    }
  ]
}