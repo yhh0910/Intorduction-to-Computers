{
  "nbformat": 4,
  "nbformat_minor": 0,
  "metadata": {
    "colab": {
      "name": "0516.ipynb",
      "provenance": [],
      "collapsed_sections": [],
      "authorship_tag": "ABX9TyNLOLHkzHGXLDihj9iFmguH",
      "include_colab_link": true
    },
    "kernelspec": {
      "name": "python3",
      "display_name": "Python 3"
    },
    "language_info": {
      "name": "python"
    }
  },
  "cells": [
    {
      "cell_type": "markdown",
      "metadata": {
        "id": "view-in-github",
        "colab_type": "text"
      },
      "source": [
        "<a href=\"https://colab.research.google.com/github/yhh0910/Intorduction-to-Computers/blob/main/0516.ipynb\" target=\"_parent\"><img src=\"https://colab.research.google.com/assets/colab-badge.svg\" alt=\"Open In Colab\"/></a>"
      ]
    },
    {
      "cell_type": "code",
      "execution_count": null,
      "metadata": {
        "colab": {
          "base_uri": "https://localhost:8080/"
        },
        "id": "ob4R8aLy-6wL",
        "outputId": "055f33f8-5566-44a5-a874-a8b50b4a3e3d"
      },
      "outputs": [
        {
          "output_type": "stream",
          "name": "stdout",
          "text": [
            "123\n"
          ]
        }
      ],
      "source": [
        "print('123')"
      ]
    },
    {
      "cell_type": "code",
      "source": [
        "i = range(5)"
      ],
      "metadata": {
        "id": "kBQwXzVf_Qgk"
      },
      "execution_count": null,
      "outputs": []
    },
    {
      "cell_type": "code",
      "source": [
        "print(type(i))"
      ],
      "metadata": {
        "colab": {
          "base_uri": "https://localhost:8080/"
        },
        "id": "UC_bXTqa_RAC",
        "outputId": "32c91e70-5172-4e01-d2c8-e0199c9e2b94"
      },
      "execution_count": null,
      "outputs": [
        {
          "output_type": "stream",
          "name": "stdout",
          "text": [
            "<class 'range'>\n"
          ]
        }
      ]
    },
    {
      "cell_type": "code",
      "source": [
        "print(i)"
      ],
      "metadata": {
        "id": "4s-edy3H_Zfp"
      },
      "execution_count": null,
      "outputs": []
    },
    {
      "cell_type": "code",
      "source": [
        "a = range(3,8)\n",
        "print(list(a))"
      ],
      "metadata": {
        "colab": {
          "base_uri": "https://localhost:8080/"
        },
        "id": "eWHnNuVu_bYo",
        "outputId": "b49bdb32-0f47-4c92-d344-1df46b3343ad"
      },
      "execution_count": null,
      "outputs": [
        {
          "output_type": "stream",
          "name": "stdout",
          "text": [
            "[3, 4, 5, 6, 7]\n"
          ]
        }
      ]
    },
    {
      "cell_type": "code",
      "source": [
        "b = range(-2,4)\n",
        "print(list(b))"
      ],
      "metadata": {
        "colab": {
          "base_uri": "https://localhost:8080/"
        },
        "id": "UyW_mYR9_oYT",
        "outputId": "1fd7afa3-5811-4467-cafe-2d2670ec6fc2"
      },
      "execution_count": null,
      "outputs": [
        {
          "output_type": "stream",
          "name": "stdout",
          "text": [
            "[-2, -1, 0, 1, 2, 3]\n"
          ]
        }
      ]
    },
    {
      "cell_type": "code",
      "source": [
        "c = range(3,8,1)\n",
        "print(list(c))"
      ],
      "metadata": {
        "colab": {
          "base_uri": "https://localhost:8080/"
        },
        "id": "87x0cjYU_x5Z",
        "outputId": "451a5fd8-9ddf-4219-bcc1-3e8164f0334c"
      },
      "execution_count": null,
      "outputs": [
        {
          "output_type": "stream",
          "name": "stdout",
          "text": [
            "[3, 4, 5, 6, 7]\n"
          ]
        }
      ]
    },
    {
      "cell_type": "code",
      "source": [
        "d = range(3,8,2)\n",
        "print(list(d))"
      ],
      "metadata": {
        "colab": {
          "base_uri": "https://localhost:8080/"
        },
        "id": "lGsA3x4hAAnh",
        "outputId": "dee67435-7288-49f3-af03-f11ab6e47975"
      },
      "execution_count": null,
      "outputs": [
        {
          "output_type": "stream",
          "name": "stdout",
          "text": [
            "[3, 5, 7]\n"
          ]
        }
      ]
    },
    {
      "cell_type": "code",
      "source": [
        "e = range(8,3,-1)\n",
        "print(list(e))"
      ],
      "metadata": {
        "colab": {
          "base_uri": "https://localhost:8080/"
        },
        "id": "66YxtJNhAQMJ",
        "outputId": "036a7b25-c5b0-4150-f776-5bf6581dc227"
      },
      "execution_count": null,
      "outputs": [
        {
          "output_type": "stream",
          "name": "stdout",
          "text": [
            "[8, 7, 6, 5, 4]\n"
          ]
        }
      ]
    },
    {
      "cell_type": "code",
      "source": [
        "f = range(9)\n",
        "print(list(f))"
      ],
      "metadata": {
        "colab": {
          "base_uri": "https://localhost:8080/"
        },
        "id": "_YTeoVtmBXlo",
        "outputId": "c237d25d-6901-4873-c8cd-1a3b41224b62"
      },
      "execution_count": null,
      "outputs": [
        {
          "output_type": "stream",
          "name": "stdout",
          "text": [
            "[0, 1, 2, 3, 4, 5, 6, 7, 8]\n"
          ]
        }
      ]
    },
    {
      "cell_type": "code",
      "source": [
        "g = range(1,10)\n",
        "print(list(g))"
      ],
      "metadata": {
        "colab": {
          "base_uri": "https://localhost:8080/"
        },
        "id": "VdUzURnBBjaw",
        "outputId": "0098668f-209c-40b1-a7b2-44bc15b0653c"
      },
      "execution_count": null,
      "outputs": [
        {
          "output_type": "stream",
          "name": "stdout",
          "text": [
            "[1, 2, 3, 4, 5, 6, 7, 8, 9]\n"
          ]
        }
      ]
    },
    {
      "cell_type": "code",
      "source": [
        "h = range(1,10,2)\n",
        "print(list(h))"
      ],
      "metadata": {
        "colab": {
          "base_uri": "https://localhost:8080/"
        },
        "id": "F_X0SKcABrOq",
        "outputId": "a5a29b41-5099-431a-f2b9-2386a78b1b35"
      },
      "execution_count": null,
      "outputs": [
        {
          "output_type": "stream",
          "name": "stdout",
          "text": [
            "[1, 3, 5, 7, 9]\n"
          ]
        }
      ]
    },
    {
      "cell_type": "code",
      "source": [
        "i = range(10,1,-2)\n",
        "print(list(i))"
      ],
      "metadata": {
        "colab": {
          "base_uri": "https://localhost:8080/"
        },
        "id": "NGCwR_zmBxcz",
        "outputId": "f97da259-46c8-4904-be39-55b23b75fbaa"
      },
      "execution_count": null,
      "outputs": [
        {
          "output_type": "stream",
          "name": "stdout",
          "text": [
            "[10, 8, 6, 4, 2]\n"
          ]
        }
      ]
    },
    {
      "cell_type": "code",
      "source": [
        "for n in range(3):\n",
        "  print(n)"
      ],
      "metadata": {
        "colab": {
          "base_uri": "https://localhost:8080/"
        },
        "id": "egxfRuNLDVI9",
        "outputId": "ca7775c3-5c13-4b4b-9274-2c0a5d3a410c"
      },
      "execution_count": null,
      "outputs": [
        {
          "output_type": "stream",
          "name": "stdout",
          "text": [
            "0\n",
            "1\n",
            "2\n"
          ]
        }
      ]
    },
    {
      "cell_type": "code",
      "source": [
        "for n in range(10):\n",
        "  print(n,end=',')"
      ],
      "metadata": {
        "colab": {
          "base_uri": "https://localhost:8080/"
        },
        "id": "Y1Cio-XYDj4d",
        "outputId": "ca46af9f-beb0-4b51-8bee-88a64eaa3865"
      },
      "execution_count": null,
      "outputs": [
        {
          "output_type": "stream",
          "name": "stdout",
          "text": [
            "0,1,2,3,4,5,6,7,8,9,"
          ]
        }
      ]
    },
    {
      "cell_type": "code",
      "source": [
        "for n in range(0,11,2):\n",
        "  print(n)"
      ],
      "metadata": {
        "colab": {
          "base_uri": "https://localhost:8080/"
        },
        "id": "lPHhQQqmD3e8",
        "outputId": "5a9b4059-06a5-4e07-ff39-b2e9bb545fb3"
      },
      "execution_count": null,
      "outputs": [
        {
          "output_type": "stream",
          "name": "stdout",
          "text": [
            "0\n",
            "2\n",
            "4\n",
            "6\n",
            "8\n",
            "10\n"
          ]
        }
      ]
    },
    {
      "cell_type": "code",
      "source": [
        "test = int(input('請輸入一個正整數'))\n",
        "for m in range(1,test+1):\n",
        "  print(m,end='')"
      ],
      "metadata": {
        "colab": {
          "base_uri": "https://localhost:8080/"
        },
        "id": "4msxiwkCL2x0",
        "outputId": "bffba935-f6c8-4dce-b293-a075d14164fb"
      },
      "execution_count": null,
      "outputs": [
        {
          "output_type": "stream",
          "name": "stdout",
          "text": [
            "請輸入一個正整數5\n",
            "12345"
          ]
        }
      ]
    },
    {
      "cell_type": "code",
      "source": [
        "for n in range(3):\n",
        "    print(n,end=',')"
      ],
      "metadata": {
        "colab": {
          "base_uri": "https://localhost:8080/"
        },
        "id": "C6aiLs1aJgm_",
        "outputId": "ec05239d-a344-4e97-ab50-fae6f179828b"
      },
      "execution_count": null,
      "outputs": [
        {
          "output_type": "stream",
          "name": "stdout",
          "text": [
            "0,1,2,"
          ]
        }
      ]
    },
    {
      "cell_type": "code",
      "source": [
        "sum = 0\n",
        "for n in range(3):\n",
        "  sum = sum+n\n",
        "print(sum)"
      ],
      "metadata": {
        "id": "atFnCHPvKJNy"
      },
      "execution_count": null,
      "outputs": []
    },
    {
      "cell_type": "code",
      "source": [
        "sum = 0\n",
        "for i in range(10,1,-2):\n",
        "  sum = sum+i\n",
        "print(sum)"
      ],
      "metadata": {
        "colab": {
          "base_uri": "https://localhost:8080/"
        },
        "id": "MLWYuLY3KkTI",
        "outputId": "b3afb8e6-9a70-4ac4-bdd9-b2ded045816e"
      },
      "execution_count": null,
      "outputs": [
        {
          "output_type": "stream",
          "name": "stdout",
          "text": [
            "30\n"
          ]
        }
      ]
    },
    {
      "cell_type": "code",
      "source": [
        "sim = 0\n",
        "sum = int(input('請輸入一個正整數:'))\n",
        "a = sum+1\n",
        "for i in range(1,a):\n",
        "  sim = sim+i\n",
        "print('1到',sum,'的整數和為',sim)\n"
      ],
      "metadata": {
        "colab": {
          "base_uri": "https://localhost:8080/"
        },
        "id": "860oWMMnMT05",
        "outputId": "c1606b55-f836-4314-e582-3989fb9da0cc"
      },
      "execution_count": null,
      "outputs": [
        {
          "output_type": "stream",
          "name": "stdout",
          "text": [
            "請輸入一個正整數:50\n",
            "1到 50 的整數和為 1275\n"
          ]
        }
      ]
    },
    {
      "cell_type": "code",
      "source": [
        "from typing import Mapping\n",
        "sum = 0\n",
        "\n",
        "test = int(input('請輸入一個正整數:'))\n",
        "for m in range(1,test+1):\n",
        "  sum = sum+m\n",
        "  print('1到',str(m),'的整數合為',sum)"
      ],
      "metadata": {
        "colab": {
          "base_uri": "https://localhost:8080/"
        },
        "id": "EVEPaaHZj83o",
        "outputId": "8d87f9f3-c4cf-4963-e499-f5bbda5102f1"
      },
      "execution_count": 1,
      "outputs": [
        {
          "output_type": "stream",
          "name": "stdout",
          "text": [
            "請輸入一個正整數:50\n",
            "1到 1 的整數合為 1\n",
            "1到 2 的整數合為 3\n",
            "1到 3 的整數合為 6\n",
            "1到 4 的整數合為 10\n",
            "1到 5 的整數合為 15\n",
            "1到 6 的整數合為 21\n",
            "1到 7 的整數合為 28\n",
            "1到 8 的整數合為 36\n",
            "1到 9 的整數合為 45\n",
            "1到 10 的整數合為 55\n",
            "1到 11 的整數合為 66\n",
            "1到 12 的整數合為 78\n",
            "1到 13 的整數合為 91\n",
            "1到 14 的整數合為 105\n",
            "1到 15 的整數合為 120\n",
            "1到 16 的整數合為 136\n",
            "1到 17 的整數合為 153\n",
            "1到 18 的整數合為 171\n",
            "1到 19 的整數合為 190\n",
            "1到 20 的整數合為 210\n",
            "1到 21 的整數合為 231\n",
            "1到 22 的整數合為 253\n",
            "1到 23 的整數合為 276\n",
            "1到 24 的整數合為 300\n",
            "1到 25 的整數合為 325\n",
            "1到 26 的整數合為 351\n",
            "1到 27 的整數合為 378\n",
            "1到 28 的整數合為 406\n",
            "1到 29 的整數合為 435\n",
            "1到 30 的整數合為 465\n",
            "1到 31 的整數合為 496\n",
            "1到 32 的整數合為 528\n",
            "1到 33 的整數合為 561\n",
            "1到 34 的整數合為 595\n",
            "1到 35 的整數合為 630\n",
            "1到 36 的整數合為 666\n",
            "1到 37 的整數合為 703\n",
            "1到 38 的整數合為 741\n",
            "1到 39 的整數合為 780\n",
            "1到 40 的整數合為 820\n",
            "1到 41 的整數合為 861\n",
            "1到 42 的整數合為 903\n",
            "1到 43 的整數合為 946\n",
            "1到 44 的整數合為 990\n",
            "1到 45 的整數合為 1035\n",
            "1到 46 的整數合為 1081\n",
            "1到 47 的整數合為 1128\n",
            "1到 48 的整數合為 1176\n",
            "1到 49 的整數合為 1225\n",
            "1到 50 的整數合為 1275\n"
          ]
        }
      ]
    }
  ]
}