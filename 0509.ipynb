{
  "nbformat": 4,
  "nbformat_minor": 0,
  "metadata": {
    "colab": {
      "name": "0509.ipynb",
      "provenance": [],
      "authorship_tag": "ABX9TyP6H+iDt386NYufvbw4L4qj",
      "include_colab_link": true
    },
    "kernelspec": {
      "name": "python3",
      "display_name": "Python 3"
    },
    "language_info": {
      "name": "python"
    }
  },
  "cells": [
    {
      "cell_type": "markdown",
      "metadata": {
        "id": "view-in-github",
        "colab_type": "text"
      },
      "source": [
        "<a href=\"https://colab.research.google.com/github/yhh0910/Intorduction-to-Computers/blob/main/0509.ipynb\" target=\"_parent\"><img src=\"https://colab.research.google.com/assets/colab-badge.svg\" alt=\"Open In Colab\"/></a>"
      ]
    },
    {
      "cell_type": "code",
      "execution_count": 4,
      "metadata": {
        "colab": {
          "base_uri": "https://localhost:8080/"
        },
        "id": "a5tIFDif7__Z",
        "outputId": "5bc3124a-cc9b-402a-8fe5-ed3492115e4e"
      },
      "outputs": [
        {
          "output_type": "stream",
          "name": "stdout",
          "text": [
            "請輸入你的體溫30\n",
            "體溫異常，請重新量測\n"
          ]
        }
      ],
      "source": [
        "temp= float(input('請輸入你的體溫'))\n",
        "if temp>=37.5:\n",
        "    print('體溫過高')\n",
        "elif temp>=37 and temp<=37.4:\n",
        "    print('體溫略高')\n",
        "elif temp>=34 and temp <=36.9:\n",
        "    print('體溫正常')\n",
        "else:\n",
        "    print('體溫異常，請重新量測')\n"
      ]
    },
    {
      "cell_type": "code",
      "source": [
        "成績= float(input('請輸入你的成績'))\n",
        "if 成績>=90:\n",
        "    print('A')\n",
        "elif 成績>=80 and 成績<=89:\n",
        "    print('B')\n",
        "elif 成績>=70 and 成績 <=79:\n",
        "    print('C')\n",
        "elif 成績>=60 and 成績 <=69:\n",
        "    print('D')\n",
        "else:\n",
        "    print('E')"
      ],
      "metadata": {
        "colab": {
          "base_uri": "https://localhost:8080/"
        },
        "id": "u-IzIxU0_nJD",
        "outputId": "33faaf98-bf97-4add-d1e5-db03006f600e"
      },
      "execution_count": 10,
      "outputs": [
        {
          "output_type": "stream",
          "name": "stdout",
          "text": [
            "請輸入你的成績1\n",
            "E\n"
          ]
        }
      ]
    },
    {
      "cell_type": "code",
      "source": [
        "money = int(input('請輸入購物金額'))\n",
        "if (money >=10000):\n",
        "  if (money >=100000):\n",
        "    print('八折',money*0.8,end='元\\n')\n",
        "  elif (money >=50000):\n",
        "    print('八五折',money*0.85,end='元\\n') \n",
        "  elif (money >=30000):\n",
        "    print('九折',money*0.9,end='元\\n')\n",
        "  else:\n",
        "    print('九五折',money*0.95,end='元\\n')  \n",
        "else:\n",
        "    print('沒打折',money,end='元\\n')"
      ],
      "metadata": {
        "colab": {
          "base_uri": "https://localhost:8080/"
        },
        "id": "ZJhBJwbKEmQ3",
        "outputId": "be588bf3-446d-4f2d-fe85-046c27a3868c"
      },
      "execution_count": 18,
      "outputs": [
        {
          "output_type": "stream",
          "name": "stdout",
          "text": [
            "請輸入購物金額50000\n",
            "八五折 42500.0元\n"
          ]
        }
      ]
    },
    {
      "cell_type": "code",
      "source": [
        "季節= int(input('請輸入月份'))\n",
        "if 季節==3 or 季節==4 or 季節==5:\n",
        "    print(季節,'月是春天!')\n",
        "elif 季節==6 or 季節==7 or 季節==8:\n",
        "    print(季節,'月是夏天!')\n",
        "elif 季節==9 or 季節==10 or 季節==11:\n",
        "    print(季節,'月是秋天!')\n",
        "elif 季節==12 or 季節==1 or 季節==2:\n",
        "    print(季節,'月是冬天!')\n",
        "else:\n",
        "    print('月份不在範圍內!')"
      ],
      "metadata": {
        "colab": {
          "base_uri": "https://localhost:8080/"
        },
        "id": "zZIvU_wdHew0",
        "outputId": "62165054-4459-42f0-c647-c33cb1808be7"
      },
      "execution_count": 23,
      "outputs": [
        {
          "output_type": "stream",
          "name": "stdout",
          "text": [
            "請輸入月份20\n",
            "月份不在範圍內!\n"
          ]
        }
      ]
    },
    {
      "cell_type": "code",
      "source": [
        "稅金= int(input('請輸入今年收入淨額:'))\n",
        "if 稅金>=2000000:\n",
        "    print('付稅金額:',稅金*0.3,'元')\n",
        "elif 稅金>=1000000:\n",
        "    print('付稅金額:',稅金*0.21,'元')\n",
        "elif 稅金>=600000:\n",
        "    print('付稅金額:',稅金*0.13,'元')\n",
        "elif 稅金>=300000:\n",
        "    print('付稅金額:',稅金*0.06,'元')\n",
        "else:\n",
        "    print('付稅金額:0元')"
      ],
      "metadata": {
        "colab": {
          "base_uri": "https://localhost:8080/"
        },
        "id": "558ZrZD-HuBC",
        "outputId": "f10bc11f-a5ad-460a-8013-23d6ef447037"
      },
      "execution_count": 28,
      "outputs": [
        {
          "output_type": "stream",
          "name": "stdout",
          "text": [
            "請輸入今年收入淨額:2000000\n",
            "付稅金額: 600000.0 元\n"
          ]
        }
      ]
    }
  ]
}